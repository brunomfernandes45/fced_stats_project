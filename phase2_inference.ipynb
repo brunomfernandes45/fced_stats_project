{
 "cells": [
  {
   "cell_type": "markdown",
   "metadata": {},
   "source": [
    "# **Phase 2 - Inference**\n",
    "\n",
    "**Team 03:**\n",
    "\n",
    "- Bruno Fernandes, up202108871\n",
    "- Hugo Abelheira, up202409899\n",
    "- Luís Pereira, up200502498"
   ]
  },
  {
   "cell_type": "markdown",
   "metadata": {},
   "source": [
    "## **Table of Contents**\n",
    "\n",
    "* [Introduction](#intro)\n",
    "    * [Phase 1 Summary](#p1summary)\n",
    "    * [Report Overview](#report)\n",
    "    * [Overview of Methodology](#overview)\n",
    "* [Statistical Modelling](#modelling)\n",
    "    * [Critique & Limitations](#limits)\n",
    "* [Summary & Conclusions](#end)\n",
    "    * [Project Summary](#whatwedid)\n",
    "    * [Summary of Findings](#summary)\n",
    "    * [Conclusion](#conclusion)"
   ]
  },
  {
   "cell_type": "markdown",
   "metadata": {},
   "source": [
    "## **Introduction** <a class=\"anchor\" id=\"intro\"></a>\n",
    "\n",
    "### **Phase 1 Summary** <a class=\"anchor\" id=\"p1summary\"></a>\n",
    "\n",
    "### **Report Overview** <a class=\"anchor\" id=\"report\"></a>\n",
    "\n",
    "### **Overview of Methodology** <a class=\"anchor\" id=\"overview\"></a>"
   ]
  },
  {
   "cell_type": "markdown",
   "metadata": {},
   "source": [
    "## **Statistical Modelling** <a class=\"anchor\" id=\"modelling\"></a>\n",
    "\n",
    "### **Critique & Limitations** <a class=\"anchor\" id=\"limits\"></a>\n",
    "vantagens e desvantangens do método escolhido para retirar as inferências"
   ]
  },
  {
   "cell_type": "markdown",
   "metadata": {},
   "source": [
    "## **Summary & Conclusions** <a class=\"anchor\" id=\"end\"></a>\n",
    "\n",
    "### **Project Summary** <a class=\"anchor\" id=\"whatwedid\"></a>\n",
    "resumidamente o que fizemos na fase 1 e na fase 2\n",
    "### **Summary of Findings** <a class=\"anchor\" id=\"summary\"></a>\n",
    "resumidamente, o que descobrimos sobre o nosso problema\n",
    "### **Conclusion** <a class=\"anchor\" id=\"conclusion\"></a>\n",
    "conclusoes sobre o nosso problema e como se relacionam ao nosso objetivo"
   ]
  }
 ],
 "metadata": {
  "kernelspec": {
   "display_name": ".venv",
   "language": "python",
   "name": "python3"
  },
  "language_info": {
   "codemirror_mode": {
    "name": "ipython",
    "version": 3
   },
   "file_extension": ".py",
   "mimetype": "text/x-python",
   "name": "python",
   "nbconvert_exporter": "python",
   "pygments_lexer": "ipython3",
   "version": "3.12.2"
  }
 },
 "nbformat": 4,
 "nbformat_minor": 2
}
